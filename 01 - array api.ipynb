{
  "cells": [
    {
      "cell_type": "markdown",
      "id": "5b61ff9d-87e6-47af-aa76-c5b1c39b1b38",
      "metadata": {
        "id": "5b61ff9d-87e6-47af-aa76-c5b1c39b1b38"
      },
      "source": [
        "# Introduction to the array API\n",
        "\n",
        "This notebook is a brief introduction to the problems you face when trying to write code that is\n",
        "agnostic to the type of the input array. This means you are trying to write code that works with\n",
        "Numpy, PyTorch, CuPy, etc arrays as input.\n",
        "\n",
        "As an example, let's write a function that can normalize an array.\n",
        "\n",
        "We will compute the mean and standard deviation to center and normalize\n",
        "the array. This isn't ground breaking stuff, but it already illustrates the hurdles that you\n",
        "face when trying to write code that works with several different types of input arrays."
      ]
    },
    {
      "cell_type": "code",
      "execution_count": null,
      "id": "90e4300e-b9db-4ba5-b0ec-3a2545a77fdb",
      "metadata": {
        "id": "90e4300e-b9db-4ba5-b0ec-3a2545a77fdb"
      },
      "outputs": [],
      "source": [
        "%matplotlib inline\n",
        "\n",
        "import numpy as np\n",
        "import matplotlib.pyplot as plt\n",
        "\n",
        "np.random.seed(42)\n",
        "\n",
        "\n",
        "def normalize(arr):\n",
        "    mean = np.mean(arr)\n",
        "    std = np.std(arr)\n",
        "    normalized_arr = (arr - mean) / std\n",
        "\n",
        "    return normalized_arr"
      ]
    },
    {
      "cell_type": "markdown",
      "id": "ba3ce2b8-0c97-428c-a5b1-fe6a5a501449",
      "metadata": {
        "id": "ba3ce2b8-0c97-428c-a5b1-fe6a5a501449"
      },
      "source": [
        "Generate some random values to play with."
      ]
    },
    {
      "cell_type": "code",
      "execution_count": null,
      "id": "45d49069-2c57-450c-b9cf-dd8a2a28d9d6",
      "metadata": {
        "id": "45d49069-2c57-450c-b9cf-dd8a2a28d9d6"
      },
      "outputs": [],
      "source": [
        "mu = -3  # Mean\n",
        "sigma = 3.141  # Standard deviation\n",
        "x = np.random.normal(mu, sigma, size=(100,))\n",
        "\n",
        "plt.hist(x, range=(-15, 15), bins=30);"
      ]
    },
    {
      "cell_type": "markdown",
      "id": "3827984f-66a0-4512-a32c-60d19d6082b5",
      "metadata": {
        "id": "3827984f-66a0-4512-a32c-60d19d6082b5"
      },
      "source": [
        "This looks reasonable. The center is somewhere left of zero."
      ]
    },
    {
      "cell_type": "code",
      "execution_count": null,
      "id": "6b790ed7-8391-473b-9064-f3154ce8202e",
      "metadata": {
        "id": "6b790ed7-8391-473b-9064-f3154ce8202e"
      },
      "outputs": [],
      "source": [
        "x_norm = normalize(x)\n",
        "\n",
        "plt.hist(x_norm, range=(-15, 15), bins=30);"
      ]
    },
    {
      "cell_type": "markdown",
      "id": "707b21c4-5c63-4adc-94df-67b575bc81d8",
      "metadata": {
        "id": "707b21c4-5c63-4adc-94df-67b575bc81d8"
      },
      "source": [
        "Hoorray! It looks like it works. The data is now centered on zero and the spread is much smaller.\n",
        "\n",
        "How about using the same function for a CuPy array? It would be cool to use the same code\n",
        "no matter what the input array type is."
      ]
    },
    {
      "cell_type": "code",
      "execution_count": null,
      "id": "90bff435-f6a3-4882-bf32-292f50eedbd1",
      "metadata": {
        "id": "90bff435-f6a3-4882-bf32-292f50eedbd1"
      },
      "outputs": [],
      "source": [
        "# Skip these cells if you don't have a CUDA device/GPU\n",
        "#import cupy as cp\n",
        "\n",
        "#x_cp = cp.asarray(x)"
      ]
    },
    {
      "cell_type": "code",
      "execution_count": null,
      "id": "8203b020-cf41-4975-8999-9ae916ef97fa",
      "metadata": {
        "id": "8203b020-cf41-4975-8999-9ae916ef97fa"
      },
      "outputs": [],
      "source": [
        "#normalize(x_cp)"
      ]
    },
    {
      "cell_type": "markdown",
      "id": "28216e9a-6566-49c0-bca1-504f12edc310",
      "metadata": {
        "id": "28216e9a-6566-49c0-bca1-504f12edc310"
      },
      "source": [
        "Looks good!\n",
        "\n",
        "How about PyTorch?"
      ]
    },
    {
      "cell_type": "code",
      "execution_count": null,
      "id": "9aeca780-a65f-4c10-ab09-3a7ecf4a5963",
      "metadata": {
        "id": "9aeca780-a65f-4c10-ab09-3a7ecf4a5963"
      },
      "outputs": [],
      "source": [
        "import torch\n",
        "\n",
        "x_torch = torch.asarray(x, device=\"cpu\")"
      ]
    },
    {
      "cell_type": "code",
      "execution_count": null,
      "id": "014ed2b6-88df-4c58-a1f6-544275cc12bd",
      "metadata": {
        "id": "014ed2b6-88df-4c58-a1f6-544275cc12bd"
      },
      "outputs": [],
      "source": [
        "normalize(x_torch)"
      ]
    },
    {
      "cell_type": "markdown",
      "id": "77202dcd-9b48-4466-be66-d7024f01417e",
      "metadata": {
        "id": "77202dcd-9b48-4466-be66-d7024f01417e"
      },
      "source": [
        "Well, it would have been too good.\n",
        "\n",
        "We could probably fix this if we used `torch.mean` instead of `np.mean` in our function.\n",
        "\n",
        "To do this we have to somehow ask the array what its module is.\n",
        "\n",
        "Maybe the `inspect` module has something to help"
      ]
    },
    {
      "cell_type": "code",
      "execution_count": null,
      "id": "afd087c4-ad5a-4377-98ea-2c38fc6bdf5c",
      "metadata": {
        "id": "afd087c4-ad5a-4377-98ea-2c38fc6bdf5c"
      },
      "outputs": [],
      "source": [
        "import inspect"
      ]
    },
    {
      "cell_type": "code",
      "execution_count": null,
      "id": "93ee294e-383b-4895-a1f7-29ababd7c3d0",
      "metadata": {
        "id": "93ee294e-383b-4895-a1f7-29ababd7c3d0"
      },
      "outputs": [],
      "source": [
        "inspect.getmodule(x_torch)"
      ]
    },
    {
      "cell_type": "code",
      "execution_count": null,
      "id": "8592c17d-493e-44da-aaf3-18cb6e5397be",
      "metadata": {
        "id": "8592c17d-493e-44da-aaf3-18cb6e5397be"
      },
      "outputs": [],
      "source": [
        "xp = inspect.getmodule(x_torch)"
      ]
    },
    {
      "cell_type": "code",
      "execution_count": null,
      "id": "b8f47330-b68d-4e44-bccd-131db2344096",
      "metadata": {
        "id": "b8f47330-b68d-4e44-bccd-131db2344096"
      },
      "outputs": [],
      "source": [
        "xp.mean(x_torch)"
      ]
    },
    {
      "cell_type": "markdown",
      "id": "ae2be118-a2b6-4453-a521-00bbf77fbeee",
      "metadata": {
        "id": "ae2be118-a2b6-4453-a521-00bbf77fbeee"
      },
      "source": [
        "It looks like we could modify our `normalize` function to first use `inspect.getmodule` to get the module\n",
        "of the input array, and then use the functions from it to perform the normalisation."
      ]
    },
    {
      "cell_type": "code",
      "execution_count": null,
      "id": "bffec1f7-4be0-4839-a404-45a7964c1b6e",
      "metadata": {
        "id": "bffec1f7-4be0-4839-a404-45a7964c1b6e"
      },
      "outputs": [],
      "source": [
        "def normalize(arr):\n",
        "    xp = inspect.getmodule(arr)\n",
        "\n",
        "    mean = xp.mean(arr)\n",
        "    std = xp.std(arr)\n",
        "    normalized_arr = (arr - mean) / std\n",
        "\n",
        "    return normalized_arr"
      ]
    },
    {
      "cell_type": "code",
      "execution_count": null,
      "id": "021c798c-8510-4885-9223-3432ed1705f2",
      "metadata": {
        "id": "021c798c-8510-4885-9223-3432ed1705f2"
      },
      "outputs": [],
      "source": [
        "normalize(x_torch)"
      ]
    },
    {
      "cell_type": "markdown",
      "id": "522f60d9-2fc1-4db8-af8b-fc51dc55a1df",
      "metadata": {
        "id": "522f60d9-2fc1-4db8-af8b-fc51dc55a1df"
      },
      "source": [
        "Excellent!\n",
        "\n",
        "Let's just check with a Numpy array to make sure."
      ]
    },
    {
      "cell_type": "code",
      "execution_count": null,
      "id": "e283173c-5671-46fd-940c-fbdefc901e9f",
      "metadata": {
        "id": "e283173c-5671-46fd-940c-fbdefc901e9f"
      },
      "outputs": [],
      "source": [
        "normalize(x)"
      ]
    },
    {
      "cell_type": "markdown",
      "id": "5d52e8ec-63fd-4efc-861e-ef425a608221",
      "metadata": {
        "id": "5d52e8ec-63fd-4efc-861e-ef425a608221"
      },
      "source": [
        "## The array API standard\n",
        "\n",
        "The basic idea of the array API standard is to provide a standardised way to obtain the namespace associated with an array\n",
        "and for the contents of that namespace to be standardised as well.\n",
        "\n",
        "This means you can write functions that work with any kind of input array (if that array complies with the array API standard).\n",
        "\n",
        "No need for `if isinstance(x, torch.tensor)` or `inspect.getmodule` trickery.\n",
        "\n",
        "You can find out more about what is part of the standard https://data-apis.org/array-api/latest/index.html\n",
        "\n",
        "Unfortunately the standard is pretty new, so things aren't perfect yet. For example Numpy before v2 does not contain\n",
        "the `__array_namespace__` method (same for PyTorch). So for now we will use `array_api_compat` a small library that smooths\n",
        "out the remaining differences."
      ]
    },
    {
      "cell_type": "code",
      "execution_count": null,
      "id": "64c39eee-aa90-4280-9cde-dcb14ddce31c",
      "metadata": {
        "id": "64c39eee-aa90-4280-9cde-dcb14ddce31c"
      },
      "outputs": [],
      "source": [
        "!pip install array-api-compat"
      ]
    },
    {
      "cell_type": "code",
      "execution_count": null,
      "id": "874ebd5f-9314-47e3-819a-0e237f1c5329",
      "metadata": {
        "id": "874ebd5f-9314-47e3-819a-0e237f1c5329"
      },
      "outputs": [],
      "source": [
        "import array_api_compat"
      ]
    },
    {
      "cell_type": "code",
      "execution_count": null,
      "id": "a190afca-a1ed-4678-acca-16adac6fb2e3",
      "metadata": {
        "id": "a190afca-a1ed-4678-acca-16adac6fb2e3"
      },
      "outputs": [],
      "source": [
        "array_api_compat.get_namespace(x_torch)"
      ]
    },
    {
      "cell_type": "code",
      "execution_count": null,
      "id": "6782d21c-cf31-4416-b15c-36a331f7da85",
      "metadata": {
        "id": "6782d21c-cf31-4416-b15c-36a331f7da85"
      },
      "outputs": [],
      "source": [
        "array_api_compat.get_namespace(x)"
      ]
    },
    {
      "cell_type": "markdown",
      "id": "842b3585-03a3-404d-b663-1fcc9538abde",
      "metadata": {
        "id": "842b3585-03a3-404d-b663-1fcc9538abde"
      },
      "source": [
        "## Final version\n",
        "\n",
        "Let's write a version of `normalize` that uses tha array API."
      ]
    },
    {
      "cell_type": "code",
      "execution_count": null,
      "id": "03fccb6a-6455-4c74-9319-c33e7d82227d",
      "metadata": {
        "id": "03fccb6a-6455-4c74-9319-c33e7d82227d"
      },
      "outputs": [],
      "source": [
        "def normalize(arr):\n",
        "    xp = array_api_compat.get_namespace(arr)\n",
        "\n",
        "    mean = xp.mean(arr)\n",
        "    std = xp.std(arr)\n",
        "    normalized_arr = (arr - mean) / std\n",
        "\n",
        "    return normalized_arr"
      ]
    },
    {
      "cell_type": "code",
      "execution_count": null,
      "id": "a6577c99-1663-49ba-857d-2914f3c2126b",
      "metadata": {
        "id": "a6577c99-1663-49ba-857d-2914f3c2126b"
      },
      "outputs": [],
      "source": [
        "normalize(x_torch)"
      ]
    },
    {
      "cell_type": "code",
      "execution_count": null,
      "id": "81343889-ac56-4000-918b-d8d5d0c9c051",
      "metadata": {
        "id": "81343889-ac56-4000-918b-d8d5d0c9c051"
      },
      "outputs": [],
      "source": [
        "normalize(x)"
      ]
    },
    {
      "cell_type": "markdown",
      "id": "d59c483f-f620-400b-8b58-20c458826ae9",
      "metadata": {
        "id": "d59c483f-f620-400b-8b58-20c458826ae9"
      },
      "source": [
        "## Exercise\n",
        "\n",
        "Take this function and convert it to use the array API so that you can pass in a Numpy, Torch or CuPy array."
      ]
    },
    {
      "cell_type": "code",
      "execution_count": null,
      "id": "c72d1855-76b6-4152-afd6-bae98ed8823d",
      "metadata": {
        "id": "c72d1855-76b6-4152-afd6-bae98ed8823d"
      },
      "outputs": [],
      "source": [
        "def normalize_0_1(arr):\n",
        "     arr -= np.min(arr)\n",
        "     arr /= np.max(arr)\n",
        "\n",
        "     return arr\n",
        "\n",
        "normalize_0_1(x)"
      ]
    },
    {
      "cell_type": "code",
      "source": [],
      "metadata": {
        "id": "QxvQD80BvokD"
      },
      "id": "QxvQD80BvokD",
      "execution_count": null,
      "outputs": []
    }
  ],
  "metadata": {
    "accelerator": "GPU",
    "colab": {
      "gpuType": "T4",
      "provenance": []
    },
    "kernelspec": {
      "display_name": "Python 3 (ipykernel)",
      "language": "python",
      "name": "python3"
    },
    "language_info": {
      "codemirror_mode": {
        "name": "ipython",
        "version": 3
      },
      "file_extension": ".py",
      "mimetype": "text/x-python",
      "name": "python",
      "nbconvert_exporter": "python",
      "pygments_lexer": "ipython3",
      "version": "3.12.5"
    }
  },
  "nbformat": 4,
  "nbformat_minor": 5
}