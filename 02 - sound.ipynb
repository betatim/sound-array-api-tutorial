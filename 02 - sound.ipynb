{
 "cells": [
  {
   "cell_type": "markdown",
   "id": "3864244f-6f2a-4a49-aac4-f1aaf74d4012",
   "metadata": {},
   "source": [
    "# Sound\n",
    "\n",
    "When we speak we create pressure waves which travel through the air. Your ears can sense these waves. And that is how you can hear what I am saying right now.\n",
    "\n",
    "To record sound and store it in a `.wav` file we measure how \"loud\" (the aplitude) a sound is many, many, many times a second. These measured values get stored in the file, together with information about how often per second they were recorded. You need this to know how long the recording is. The jargon for this is \"sampling rate\". Typically the sampling rate is something like 20000Hz or even 44000Hz.\n",
    "\n",
    "Let's listen to a simple recording and then look at it."
   ]
  },
  {
   "cell_type": "code",
   "execution_count": null,
   "id": "f1ddeb72-5e7a-4d54-b8bd-662fd9705eed",
   "metadata": {},
   "outputs": [],
   "source": [
    "import numpy as np\n",
    "\n",
    "import matplotlib.pyplot as plt\n",
    "from IPython.display import Audio\n",
    "\n",
    "\n",
    "sample_rate = 22050  # Hz\n",
    "frequency1 = 512  # Hz\n",
    "frequency2 = 1024  # Hz\n",
    "play_time = 1  # seconds\n",
    "\n",
    "# Generate time array\n",
    "t = np.arange(0, play_time, 1/sample_rate)\n",
    "\n",
    "# Generate sound waves\n",
    "wave1 = np.sin(2 * np.pi * frequency1 * t) * np.exp(-t/0.7)\n",
    "wave2 = np.sin(2 * np.pi * frequency2 * t) * np.exp(-t/0.7)\n",
    "\n",
    "# Create silence array\n",
    "silence = np.zeros(int(sample_rate * play_time))\n",
    "\n",
    "# Concatenate sound waves and silence\n",
    "sound = np.concatenate((silence, wave1, silence, wave2))\n",
    "\n",
    "noise = np.random.normal(0, 0.01, len(sound))\n",
    "sound_with_noise = sound + noise\n",
    "sound_with_noise /= np.max(np.abs(sound_with_noise))\n",
    "\n",
    "# Save to file\n",
    "import scipy.io.wavfile as wavfile\n",
    "wavfile.write(\"output.wav\", sample_rate, sound)"
   ]
  },
  {
   "cell_type": "code",
   "execution_count": null,
   "id": "47b7e73f-f615-40bf-988e-5f3308a18761",
   "metadata": {},
   "outputs": [],
   "source": [
    "Audio(sound, rate=sample_rate)"
   ]
  },
  {
   "cell_type": "code",
   "execution_count": null,
   "id": "fb2a940a-fce0-4479-be47-f0a5b1a05139",
   "metadata": {},
   "outputs": [],
   "source": [
    "Audio(sound_with_noise, rate=sample_rate)"
   ]
  },
  {
   "cell_type": "code",
   "execution_count": null,
   "id": "90787654-d471-4cc1-97c8-ba9d263e493b",
   "metadata": {},
   "outputs": [],
   "source": [
    "import librosa"
   ]
  },
  {
   "cell_type": "code",
   "execution_count": null,
   "id": "eb389d43-32af-4bcd-93a9-0d6b60e32e0a",
   "metadata": {},
   "outputs": [],
   "source": [
    "librosa.display.waveshow(sound_with_noise)\n",
    "plt.title(\"Amplitude of Sound Sample\");"
   ]
  },
  {
   "cell_type": "code",
   "execution_count": null,
   "id": "905cac88-e2fa-4941-9217-431481869681",
   "metadata": {},
   "outputs": [],
   "source": [
    "sp = np.fft.fft(sound_with_noise)\n",
    "\n",
    "freq = np.fft.fftfreq(sound_with_noise.shape[0], d=1/sample_rate)\n",
    "idx = np.where((freq > 0) & (freq <= 2000))[0]\n",
    "\n",
    "plt.plot(freq[idx], np.abs(sp[idx]))\n",
    "plt.xlabel('Frequency (Hz)')\n",
    "plt.ylabel('Amplitude')\n",
    "plt.title('Fourier Transform of Sound Sample');"
   ]
  },
  {
   "cell_type": "code",
   "execution_count": null,
   "id": "476388bb-59fe-42f9-9d40-fa290e3382a5",
   "metadata": {},
   "outputs": [],
   "source": [
    "D = librosa.stft(sound_with_noise)\n",
    "S_db = librosa.amplitude_to_db(np.abs(D), ref=np.max)\n",
    "\n",
    "librosa.display.specshow(S_db, x_axis='time', y_axis='log')"
   ]
  },
  {
   "cell_type": "code",
   "execution_count": null,
   "id": "3f8ba47a-9ae0-459d-82cb-16cbba2ed310",
   "metadata": {},
   "outputs": [],
   "source": [
    "## Exercise\n",
    "\n",
    "XXX needed"
   ]
  },
  {
   "cell_type": "code",
   "execution_count": null,
   "id": "f590fdae-409d-4241-bb37-a894ab5f91f9",
   "metadata": {},
   "outputs": [],
   "source": []
  }
 ],
 "metadata": {
  "colab": {
   "gpuType": "T4",
   "provenance": []
  },
  "kernelspec": {
   "display_name": "Python 3 (ipykernel)",
   "language": "python",
   "name": "python3"
  },
  "language_info": {
   "codemirror_mode": {
    "name": "ipython",
    "version": 3
   },
   "file_extension": ".py",
   "mimetype": "text/x-python",
   "name": "python",
   "nbconvert_exporter": "python",
   "pygments_lexer": "ipython3",
   "version": "3.12.5"
  }
 },
 "nbformat": 4,
 "nbformat_minor": 5
}
